{
 "cells": [
  {
   "cell_type": "markdown",
   "metadata": {},
   "source": [
    "# Analysis of house prices in St Albans by location"
   ]
  },
  {
   "cell_type": "markdown",
   "metadata": {},
   "source": [
    "This notebook will combine several different publically available datasets to determine regions of the St Albans area (UK) that are over- or under- valued relative to the mean for the St Albans postcode (AL). "
   ]
  },
  {
   "cell_type": "markdown",
   "metadata": {},
   "source": [
    "This first notebook will use data sets from domestic household energy certificates (EPCs), sold house prices from the Land Registry and latitude / longitude data for postcodes / Unique Property Reference Number from the Ordnance Survey (OS) to create a merged dataset. \n",
    "\n",
    "Subsequent notebooks will analyse this merged dataset.\n",
    "\n",
    "Accurately predicting house prices is challenging - in these notebooks we will focusing on predicting the price as a function of floor area and using geospatial analysis to determine which are the expensive / cheaper areas relative to the mean (determined by linear regression).\n",
    "\n",
    "Future work will determine the features of the area which contribute to them being above / below the mean and ways of determing the relationship between the features of the property and the house price."
   ]
  },
  {
   "cell_type": "markdown",
   "metadata": {},
   "source": [
    "# Importing the EPC dataset"
   ]
  },
  {
   "cell_type": "code",
   "execution_count": 85,
   "metadata": {},
   "outputs": [
    {
     "name": "stderr",
     "output_type": "stream",
     "text": [
      "/var/folders/73/04s61fhs2l17cmr472j9zg_m0000gn/T/ipykernel_5528/1875124879.py:8: DtypeWarning: Columns (34) have mixed types. Specify dtype option on import or set low_memory=False.\n",
      "  epc_full_data = pd.read_csv(r'./domestic-E07000240-St-Albans/certificates.csv')\n"
     ]
    }
   ],
   "source": [
    "import pandas as pd\n",
    "import numpy as np\n",
    "\n",
    "# read into EPC data from a CSV file into a pandas dataframe\n",
    "# read data from https://epc.opendatacommunities.org/files/domestic-E07000240-St-Albans.zip\n",
    "# you will need to register, or use the API\n",
    "\n",
    "epc_full_data = pd.read_csv(r'./domestic-E07000240-St-Albans/certificates.csv')"
   ]
  },
  {
   "cell_type": "markdown",
   "metadata": {},
   "source": [
    "The EPC data contains 92 columns, most of which are not useful for this exercise. We will get an error as jupyter has to estimate the dtype for all 92 columns! \n",
    "\n",
    "Let's have a look at what the EPC datset contains"
   ]
  },
  {
   "cell_type": "code",
   "execution_count": 86,
   "metadata": {
    "scrolled": true
   },
   "outputs": [
    {
     "name": "stdout",
     "output_type": "stream",
     "text": [
      "<class 'pandas.core.frame.DataFrame'>\n",
      "RangeIndex: 55749 entries, 0 to 55748\n",
      "Data columns (total 92 columns):\n",
      " #   Column                         Non-Null Count  Dtype  \n",
      "---  ------                         --------------  -----  \n",
      " 0   LMK_KEY                        55749 non-null  object \n",
      " 1   ADDRESS1                       55749 non-null  object \n",
      " 2   ADDRESS2                       27960 non-null  object \n",
      " 3   ADDRESS3                       4561 non-null   object \n",
      " 4   POSTCODE                       55749 non-null  object \n",
      " 5   BUILDING_REFERENCE_NUMBER      55749 non-null  int64  \n",
      " 6   CURRENT_ENERGY_RATING          55749 non-null  object \n",
      " 7   POTENTIAL_ENERGY_RATING        55749 non-null  object \n",
      " 8   CURRENT_ENERGY_EFFICIENCY      55749 non-null  int64  \n",
      " 9   POTENTIAL_ENERGY_EFFICIENCY    55749 non-null  int64  \n",
      " 10  PROPERTY_TYPE                  55749 non-null  object \n",
      " 11  BUILT_FORM                     55747 non-null  object \n",
      " 12  INSPECTION_DATE                55749 non-null  object \n",
      " 13  LOCAL_AUTHORITY                55749 non-null  object \n",
      " 14  CONSTITUENCY                   55749 non-null  object \n",
      " 15  COUNTY                         55749 non-null  object \n",
      " 16  LODGEMENT_DATE                 55749 non-null  object \n",
      " 17  TRANSACTION_TYPE               55749 non-null  object \n",
      " 18  ENVIRONMENT_IMPACT_CURRENT     55749 non-null  int64  \n",
      " 19  ENVIRONMENT_IMPACT_POTENTIAL   55749 non-null  int64  \n",
      " 20  ENERGY_CONSUMPTION_CURRENT     55749 non-null  int64  \n",
      " 21  ENERGY_CONSUMPTION_POTENTIAL   55740 non-null  float64\n",
      " 22  CO2_EMISSIONS_CURRENT          55749 non-null  float64\n",
      " 23  CO2_EMISS_CURR_PER_FLOOR_AREA  55749 non-null  int64  \n",
      " 24  CO2_EMISSIONS_POTENTIAL        55749 non-null  float64\n",
      " 25  LIGHTING_COST_CURRENT          55741 non-null  float64\n",
      " 26  LIGHTING_COST_POTENTIAL        55741 non-null  float64\n",
      " 27  HEATING_COST_CURRENT           55741 non-null  float64\n",
      " 28  HEATING_COST_POTENTIAL         55741 non-null  float64\n",
      " 29  HOT_WATER_COST_CURRENT         55741 non-null  float64\n",
      " 30  HOT_WATER_COST_POTENTIAL       55741 non-null  float64\n",
      " 31  TOTAL_FLOOR_AREA               55749 non-null  int64  \n",
      " 32  ENERGY_TARIFF                  55749 non-null  object \n",
      " 33  MAINS_GAS_FLAG                 49482 non-null  object \n",
      " 34  FLOOR_LEVEL                    48287 non-null  object \n",
      " 35  FLAT_TOP_STOREY                16884 non-null  object \n",
      " 36  FLAT_STOREY_COUNT              3879 non-null   float64\n",
      " 37  MAIN_HEATING_CONTROLS          39190 non-null  float64\n",
      " 38  MULTI_GLAZE_PROPORTION         50205 non-null  float64\n",
      " 39  GLAZED_TYPE                    54744 non-null  object \n",
      " 40  GLAZED_AREA                    54744 non-null  object \n",
      " 41  EXTENSION_COUNT                49509 non-null  float64\n",
      " 42  NUMBER_HABITABLE_ROOMS         49509 non-null  float64\n",
      " 43  NUMBER_HEATED_ROOMS            49509 non-null  float64\n",
      " 44  LOW_ENERGY_LIGHTING            53442 non-null  float64\n",
      " 45  NUMBER_OPEN_FIREPLACES         54376 non-null  float64\n",
      " 46  HOTWATER_DESCRIPTION           55749 non-null  object \n",
      " 47  HOT_WATER_ENERGY_EFF           55634 non-null  object \n",
      " 48  HOT_WATER_ENV_EFF              55633 non-null  object \n",
      " 49  FLOOR_DESCRIPTION              55747 non-null  object \n",
      " 50  FLOOR_ENERGY_EFF               20162 non-null  object \n",
      " 51  FLOOR_ENV_EFF                  4067 non-null   object \n",
      " 52  WINDOWS_DESCRIPTION            55735 non-null  object \n",
      " 53  WINDOWS_ENERGY_EFF             55705 non-null  object \n",
      " 54  WINDOWS_ENV_EFF                55705 non-null  object \n",
      " 55  WALLS_DESCRIPTION              55748 non-null  object \n",
      " 56  WALLS_ENERGY_EFF               55702 non-null  object \n",
      " 57  WALLS_ENV_EFF                  55702 non-null  object \n",
      " 58  SECONDHEAT_DESCRIPTION         21157 non-null  object \n",
      " 59  SHEATING_ENERGY_EFF            0 non-null      float64\n",
      " 60  SHEATING_ENV_EFF               0 non-null      float64\n",
      " 61  ROOF_DESCRIPTION               55746 non-null  object \n",
      " 62  ROOF_ENERGY_EFF                45070 non-null  object \n",
      " 63  ROOF_ENV_EFF                   45070 non-null  object \n",
      " 64  MAINHEAT_DESCRIPTION           55749 non-null  object \n",
      " 65  MAINHEAT_ENERGY_EFF            55635 non-null  object \n",
      " 66  MAINHEAT_ENV_EFF               55634 non-null  object \n",
      " 67  MAINHEATCONT_DESCRIPTION       55647 non-null  object \n",
      " 68  MAINHEATC_ENERGY_EFF           55639 non-null  object \n",
      " 69  MAINHEATC_ENV_EFF              55639 non-null  object \n",
      " 70  LIGHTING_DESCRIPTION           55749 non-null  object \n",
      " 71  LIGHTING_ENERGY_EFF            55684 non-null  object \n",
      " 72  LIGHTING_ENV_EFF               55696 non-null  object \n",
      " 73  MAIN_FUEL                      55749 non-null  object \n",
      " 74  WIND_TURBINE_COUNT             51930 non-null  float64\n",
      " 75  HEAT_LOSS_CORRIDOR             47953 non-null  object \n",
      " 76  UNHEATED_CORRIDOR_LENGTH       8629 non-null   float64\n",
      " 77  FLOOR_HEIGHT                   27923 non-null  float64\n",
      " 78  PHOTO_SUPPLY                   33170 non-null  float64\n",
      " 79  SOLAR_WATER_HEATING_FLAG       37303 non-null  object \n",
      " 80  MECHANICAL_VENTILATION         54744 non-null  object \n",
      " 81  ADDRESS                        55749 non-null  object \n",
      " 82  LOCAL_AUTHORITY_LABEL          55749 non-null  object \n",
      " 83  CONSTITUENCY_LABEL             55749 non-null  object \n",
      " 84  POSTTOWN                       55629 non-null  object \n",
      " 85  CONSTRUCTION_AGE_BAND          55145 non-null  object \n",
      " 86  LODGEMENT_DATETIME             55749 non-null  object \n",
      " 87  TENURE                         54333 non-null  object \n",
      " 88  FIXED_LIGHTING_OUTLETS_COUNT   28275 non-null  float64\n",
      " 89  LOW_ENERGY_FIXED_LIGHT_COUNT   21031 non-null  float64\n",
      " 90  UPRN                           55061 non-null  float64\n",
      " 91  UPRN_SOURCE                    55061 non-null  object \n",
      "dtypes: float64(26), int64(8), object(58)\n",
      "memory usage: 39.1+ MB\n"
     ]
    }
   ],
   "source": [
    "epc_full_data.info()"
   ]
  },
  {
   "cell_type": "markdown",
   "metadata": {},
   "source": [
    "The EPC data contains 92 columns, most of which are not useful for this exercise. We will filter down to use the following: Total Floor Area, Number of Habitable Rooms, Total Heated Rooms, Property Type, Construction Age Band, and location data: Address, Address2, Address3, Postcode, and UPRN (Unique Property Reference Number). We need to make sure the UPRN is an numpy Int64 integer, not a float."
   ]
  },
  {
   "cell_type": "code",
   "execution_count": 87,
   "metadata": {},
   "outputs": [],
   "source": [
    "epc_df = pd.DataFrame(epc_full_data, columns=['ADDRESS','POSTCODE', 'TOTAL_FLOOR_AREA', \n",
    "                                 'NUMBER_HABITABLE_ROOMS','NUMBER_HEATED_ROOMS', 'ADDRESS1',\n",
    "                                'ADDRESS2', 'ADDRESS3', 'PROPERTY_TYPE', 'CONSTRUCTION_AGE_BAND', 'UPRN', 'INSPECTION_DATE'])\n",
    "epc_df['UPRN'] = epc_df['UPRN'].astype('Int64')"
   ]
  },
  {
   "cell_type": "markdown",
   "metadata": {},
   "source": [
    "Let's check whether there are any missing values"
   ]
  },
  {
   "cell_type": "code",
   "execution_count": 88,
   "metadata": {},
   "outputs": [
    {
     "data": {
      "text/plain": [
       "ADDRESS                       0\n",
       "POSTCODE                      0\n",
       "TOTAL_FLOOR_AREA              0\n",
       "NUMBER_HABITABLE_ROOMS     6240\n",
       "NUMBER_HEATED_ROOMS        6240\n",
       "ADDRESS1                      0\n",
       "ADDRESS2                  27789\n",
       "ADDRESS3                  51188\n",
       "PROPERTY_TYPE                 0\n",
       "CONSTRUCTION_AGE_BAND       604\n",
       "UPRN                        688\n",
       "INSPECTION_DATE               0\n",
       "dtype: int64"
      ]
     },
     "execution_count": 88,
     "metadata": {},
     "output_type": "execute_result"
    }
   ],
   "source": [
    "epc_df.isnull().sum()"
   ]
  },
  {
   "cell_type": "markdown",
   "metadata": {},
   "source": [
    "Lets check for duplicates in the UPRN column - this is where the EPC certificate has been issued more than once for the same property. This could be because the property has been sold more than once during the timeframe of EPC certificates. We will convert the inspection date to datetime object. "
   ]
  },
  {
   "cell_type": "code",
   "execution_count": 89,
   "metadata": {},
   "outputs": [
    {
     "data": {
      "text/plain": [
       "0        2022-10-07\n",
       "1        2013-05-22\n",
       "2        2009-01-21\n",
       "3        2010-04-01\n",
       "4        2013-09-06\n",
       "            ...    \n",
       "55744    2022-11-28\n",
       "55745    2022-11-01\n",
       "55746    2022-11-18\n",
       "55747    2022-11-19\n",
       "55748    2022-11-11\n",
       "Name: INSPECTION_DATE, Length: 55749, dtype: object"
      ]
     },
     "execution_count": 89,
     "metadata": {},
     "output_type": "execute_result"
    }
   ],
   "source": [
    "epc_df['INSPECTION_DATE']"
   ]
  },
  {
   "cell_type": "code",
   "execution_count": 90,
   "metadata": {},
   "outputs": [],
   "source": [
    "epc_df['INSPECTION_DATE'] = pd.to_datetime(epc_df['INSPECTION_DATE'], format='%Y-%m-%d')"
   ]
  },
  {
   "cell_type": "markdown",
   "metadata": {},
   "source": [
    "Let's look at the distribution of habitable rooms data using a seaborn count and the relationship between habitable rooms and total floor area using a box plot. "
   ]
  },
  {
   "cell_type": "markdown",
   "metadata": {},
   "source": [
    "Our selected EPC columns are all int64 types. There are no missing postcodes, first line of the addresses, or property types.  \n",
    "\n",
    "There are no missing total_floor_areas. There are however, significant number of missing habitable rooms. Let's look at the habitable rooms data using a seaborn count and box plot versus total floor area.\n",
    "\n"
   ]
  },
  {
   "cell_type": "markdown",
   "metadata": {},
   "source": [
    "Our selected EPC columns are all int64 types. There are no missing postcodes, first line of the addresses, or property types.  \n",
    "\n",
    "There are no missing total_floor_areas. \n",
    "\n"
   ]
  },
  {
   "cell_type": "code",
   "execution_count": 91,
   "metadata": {},
   "outputs": [
    {
     "data": {
      "image/png": "[encoded data removed]",
      "text/plain": [
       "<Figure size 1200x400 with 1 Axes>"
      ]
     },
     "metadata": {},
     "output_type": "display_data"
    },
    {
     "data": {
      "text/plain": [
       "<Figure size 640x480 with 0 Axes>"
      ]
     },
     "metadata": {},
     "output_type": "display_data"
    },
    {
     "data": {
      "image/png": "[encoded data removed]",
      "text/plain": [
       "<Figure size 1200x400 with 1 Axes>"
      ]
     },
     "metadata": {},
     "output_type": "display_data"
    }
   ],
   "source": [
    "import matplotlib.pyplot as plt\n",
    "import seaborn \n",
    "from  matplotlib.ticker import FuncFormatter\n",
    "plt.figure(figsize=(12,4)) \n",
    "ax = seaborn.countplot(x=\"NUMBER_HABITABLE_ROOMS\",data=epc_df)\n",
    "\n",
    "# ensure x axis is set to integers\n",
    "ax.xaxis.set_major_formatter(FuncFormatter(lambda x, _: int(x)))\n",
    "plt.show()\n",
    "plt.clf()\n",
    "\n",
    "plt.figure(figsize=(12,4)) \n",
    "ax1 = seaborn.boxplot(data=epc_df, x='NUMBER_HABITABLE_ROOMS', y='TOTAL_FLOOR_AREA')\n",
    "ax1.xaxis.set_major_formatter(FuncFormatter(lambda x, _: int(x)))\n",
    "plt.show()"
   ]
  },
  {
   "cell_type": "markdown",
   "metadata": {},
   "source": [
    "There are a few things to note: There are some properties labelled as zero rooms, which is unlikely to be correct. For some number of rooms (e.g 4 and 6), there is a high number of outliers. We can see a correlation between the total floor spaces until about 13 rooms. However, from the count plot we can see there are few properties with greater than 13 rooms. If we use number of habitable rooms as a feature, we should remove the zero rooms and rooms > 13.\n",
    "\n",
    "Let's look at the correlation between total floor area and number of habitable rooms."
   ]
  },
  {
   "cell_type": "code",
   "execution_count": 92,
   "metadata": {},
   "outputs": [
    {
     "data": {
      "text/plain": [
       "0.8094659305838451"
      ]
     },
     "execution_count": 92,
     "metadata": {},
     "output_type": "execute_result"
    }
   ],
   "source": [
    "epc_df['TOTAL_FLOOR_AREA'].corr(epc_df['NUMBER_HABITABLE_ROOMS'])"
   ]
  },
  {
   "cell_type": "markdown",
   "metadata": {},
   "source": [
    "This correlation is quite high - but as we have seen from the boxplot there are significant outliers. From now on, we will only use total floor area as a feature, but in future we will also look at including other features. "
   ]
  },
  {
   "cell_type": "markdown",
   "metadata": {},
   "source": [
    "# Importing Price data"
   ]
  },
  {
   "cell_type": "markdown",
   "metadata": {},
   "source": [
    "We have downloaded from the UK Land Registry the sold prices for the St Albans postcode (AL) since 2002.  \n",
    "\n",
    "The data can be downloaded from https://landregistry.data.gov.uk/"
   ]
  },
  {
   "cell_type": "code",
   "execution_count": 93,
   "metadata": {},
   "outputs": [
    {
     "name": "stdout",
     "output_type": "stream",
     "text": [
      "<class 'pandas.core.frame.DataFrame'>\n",
      "RangeIndex: 66983 entries, 0 to 66982\n",
      "Data columns (total 16 columns):\n",
      " #   Column                         Non-Null Count  Dtype \n",
      "---  ------                         --------------  ----- \n",
      " 0   Transaction unique identifier  66983 non-null  object\n",
      " 1   Price                          66983 non-null  int64 \n",
      " 2   Date of Transfer               66983 non-null  object\n",
      " 3   POSTCODE                       66871 non-null  object\n",
      " 4   property type                  66983 non-null  object\n",
      " 5   Old/New                        66983 non-null  object\n",
      " 6   Duration                       66983 non-null  object\n",
      " 7   SAON                           8611 non-null   object\n",
      " 8   PAON                           66980 non-null  object\n",
      " 9   street                         66909 non-null  object\n",
      " 10  Locality,                      41663 non-null  object\n",
      " 11  Town/City                      66983 non-null  object\n",
      " 12  District                       66983 non-null  object\n",
      " 13  County                         66983 non-null  object\n",
      " 14  PPDCategory Type               66983 non-null  object\n",
      " 15  Record Status                  66983 non-null  object\n",
      "dtypes: int64(1), object(15)\n",
      "memory usage: 8.2+ MB\n"
     ]
    }
   ],
   "source": [
    "price_data_df=pd.read_csv(r'./price_data/ppd_data.csv', header=None)\n",
    "\n",
    "price_data_df.columns =['Transaction unique identifier','Price',\n",
    "                     'Date of Transfer','POSTCODE', 'property type',\n",
    "                     'Old/New', 'Duration', 'SAON','PAON', \n",
    "                     'street','Locality,','Town/City',\n",
    "                     'District', 'County', \n",
    "                     'PPDCategory Type', 'Record Status']\n",
    "\n",
    "\n",
    "price_data_df.info()\n",
    "                       "
   ]
  },
  {
   "cell_type": "markdown",
   "metadata": {},
   "source": [
    "Most of the column names are self-explanatory, except: \n",
    "#PAON Primary Addressable Object Name  (typically the house number or name)\n",
    "\n",
    "#SAON Secondary Addressable Object Name – if there is a sub-building, for example, the building is divided into flats, there will be a SAON. \n",
    "\n",
    "Note the same Transaction unique indentifier can be used across multiple properties (presumably if a transaction involved multiple properties). "
   ]
  },
  {
   "cell_type": "markdown",
   "metadata": {},
   "source": [
    "Let's check how complete our price dataframe is:"
   ]
  },
  {
   "cell_type": "code",
   "execution_count": 94,
   "metadata": {},
   "outputs": [
    {
     "data": {
      "text/plain": [
       "Transaction unique identifier        0\n",
       "Price                                0\n",
       "Date of Transfer                     0\n",
       "POSTCODE                           112\n",
       "property type                        0\n",
       "Old/New                              0\n",
       "Duration                             0\n",
       "SAON                             58372\n",
       "PAON                                 3\n",
       "street                              74\n",
       "Locality,                        25320\n",
       "Town/City                            0\n",
       "District                             0\n",
       "County                               0\n",
       "PPDCategory Type                     0\n",
       "Record Status                        0\n",
       "dtype: int64"
      ]
     },
     "execution_count": 94,
     "metadata": {},
     "output_type": "execute_result"
    }
   ],
   "source": [
    "price_data_df.isnull().sum()"
   ]
  },
  {
   "cell_type": "markdown",
   "metadata": {},
   "source": [
    "We're missing 112 postcodes, so we'll need to take that into account later"
   ]
  },
  {
   "cell_type": "code",
   "execution_count": 95,
   "metadata": {},
   "outputs": [
    {
     "name": "stdout",
     "output_type": "stream",
     "text": [
      "<class 'pandas.core.frame.DataFrame'>\n",
      "RangeIndex: 66983 entries, 0 to 66982\n",
      "Data columns (total 16 columns):\n",
      " #   Column                         Non-Null Count  Dtype \n",
      "---  ------                         --------------  ----- \n",
      " 0   Transaction unique identifier  66983 non-null  object\n",
      " 1   Price                          66983 non-null  int64 \n",
      " 2   Date of Transfer               66983 non-null  object\n",
      " 3   POSTCODE                       66871 non-null  object\n",
      " 4   property type                  66983 non-null  object\n",
      " 5   Old/New                        66983 non-null  object\n",
      " 6   Duration                       66983 non-null  object\n",
      " 7   SAON                           8611 non-null   object\n",
      " 8   PAON                           66980 non-null  object\n",
      " 9   street                         66909 non-null  object\n",
      " 10  Locality,                      41663 non-null  object\n",
      " 11  Town/City                      66983 non-null  object\n",
      " 12  District                       66983 non-null  object\n",
      " 13  County                         66983 non-null  object\n",
      " 14  PPDCategory Type               66983 non-null  object\n",
      " 15  Record Status                  66983 non-null  object\n",
      "dtypes: int64(1), object(15)\n",
      "memory usage: 8.2+ MB\n"
     ]
    }
   ],
   "source": [
    "price_data_df.info()"
   ]
  },
  {
   "cell_type": "markdown",
   "metadata": {},
   "source": [
    "Let's look at the price_data_df, and we can remove some entries which fail a sanity check."
   ]
  },
  {
   "cell_type": "code",
   "execution_count": 96,
   "metadata": {},
   "outputs": [
    {
     "data": {
      "text/html": [
       "<div>\n",
       "<style scoped>\n",
       "    .dataframe tbody tr th:only-of-type {\n",
       "        vertical-align: middle;\n",
       "    }\n",
       "\n",
       "    .dataframe tbody tr th {\n",
       "        vertical-align: top;\n",
       "    }\n",
       "\n",
       "    .dataframe thead th {\n",
       "        text-align: right;\n",
       "    }\n",
       "</style>\n",
       "<table border=\"1\" class=\"dataframe\">\n",
       "  <thead>\n",
       "    <tr style=\"text-align: right;\">\n",
       "      <th></th>\n",
       "      <th>Transaction unique identifier</th>\n",
       "      <th>Price</th>\n",
       "      <th>Date of Transfer</th>\n",
       "      <th>POSTCODE</th>\n",
       "      <th>property type</th>\n",
       "      <th>Old/New</th>\n",
       "      <th>Duration</th>\n",
       "      <th>SAON</th>\n",
       "      <th>PAON</th>\n",
       "      <th>street</th>\n",
       "      <th>Locality,</th>\n",
       "      <th>Town/City</th>\n",
       "      <th>District</th>\n",
       "      <th>County</th>\n",
       "      <th>PPDCategory Type</th>\n",
       "      <th>Record Status</th>\n",
       "    </tr>\n",
       "  </thead>\n",
       "  <tbody>\n",
       "    <tr>\n",
       "      <th>0</th>\n",
       "      <td>2403D606-A793-4EAE-9771-93B96965E20E</td>\n",
       "      <td>500000</td>\n",
       "      <td>2015-01-30</td>\n",
       "      <td>AL1 1AJ</td>\n",
       "      <td>T</td>\n",
       "      <td>N</td>\n",
       "      <td>F</td>\n",
       "      <td>NaN</td>\n",
       "      <td>2</td>\n",
       "      <td>ORIENT CLOSE</td>\n",
       "      <td>NaN</td>\n",
       "      <td>ST ALBANS</td>\n",
       "      <td>ST ALBANS</td>\n",
       "      <td>HERTFORDSHIRE</td>\n",
       "      <td>A</td>\n",
       "      <td>http://landregistry.data.gov.uk/data/ppi/trans...</td>\n",
       "    </tr>\n",
       "    <tr>\n",
       "      <th>1</th>\n",
       "      <td>79A74E21-9273-1289-E053-6B04A8C01627</td>\n",
       "      <td>700000</td>\n",
       "      <td>2018-09-21</td>\n",
       "      <td>AL1 1AJ</td>\n",
       "      <td>T</td>\n",
       "      <td>N</td>\n",
       "      <td>F</td>\n",
       "      <td>NaN</td>\n",
       "      <td>5</td>\n",
       "      <td>ORIENT CLOSE</td>\n",
       "      <td>NaN</td>\n",
       "      <td>ST ALBANS</td>\n",
       "      <td>ST ALBANS</td>\n",
       "      <td>HERTFORDSHIRE</td>\n",
       "      <td>A</td>\n",
       "      <td>http://landregistry.data.gov.uk/data/ppi/trans...</td>\n",
       "    </tr>\n",
       "    <tr>\n",
       "      <th>2</th>\n",
       "      <td>C40A8A59-106B-440E-87F1-916CA5BFF4BA</td>\n",
       "      <td>470000</td>\n",
       "      <td>2013-01-10</td>\n",
       "      <td>AL1 1AJ</td>\n",
       "      <td>T</td>\n",
       "      <td>N</td>\n",
       "      <td>F</td>\n",
       "      <td>NaN</td>\n",
       "      <td>5</td>\n",
       "      <td>ORIENT CLOSE</td>\n",
       "      <td>NaN</td>\n",
       "      <td>ST ALBANS</td>\n",
       "      <td>ST ALBANS</td>\n",
       "      <td>HERTFORDSHIRE</td>\n",
       "      <td>A</td>\n",
       "      <td>http://landregistry.data.gov.uk/data/ppi/trans...</td>\n",
       "    </tr>\n",
       "    <tr>\n",
       "      <th>3</th>\n",
       "      <td>7011B109-623C-8ED6-E053-6B04A8C075C1</td>\n",
       "      <td>570000</td>\n",
       "      <td>2018-05-18</td>\n",
       "      <td>AL1 1AJ</td>\n",
       "      <td>S</td>\n",
       "      <td>N</td>\n",
       "      <td>F</td>\n",
       "      <td>NaN</td>\n",
       "      <td>6</td>\n",
       "      <td>ORIENT CLOSE</td>\n",
       "      <td>NaN</td>\n",
       "      <td>ST ALBANS</td>\n",
       "      <td>ST ALBANS</td>\n",
       "      <td>HERTFORDSHIRE</td>\n",
       "      <td>A</td>\n",
       "      <td>http://landregistry.data.gov.uk/data/ppi/trans...</td>\n",
       "    </tr>\n",
       "    <tr>\n",
       "      <th>4</th>\n",
       "      <td>C11B17CC-8A4F-4406-9871-617FDD7278C3</td>\n",
       "      <td>375000</td>\n",
       "      <td>2012-08-01</td>\n",
       "      <td>AL1 1AJ</td>\n",
       "      <td>S</td>\n",
       "      <td>N</td>\n",
       "      <td>F</td>\n",
       "      <td>NaN</td>\n",
       "      <td>9</td>\n",
       "      <td>ORIENT CLOSE</td>\n",
       "      <td>NaN</td>\n",
       "      <td>ST ALBANS</td>\n",
       "      <td>ST ALBANS</td>\n",
       "      <td>HERTFORDSHIRE</td>\n",
       "      <td>A</td>\n",
       "      <td>http://landregistry.data.gov.uk/data/ppi/trans...</td>\n",
       "    </tr>\n",
       "  </tbody>\n",
       "</table>\n",
       "</div>"
      ],
      "text/plain": [
       "          Transaction unique identifier   Price Date of Transfer POSTCODE  \\\n",
       "0  2403D606-A793-4EAE-9771-93B96965E20E  500000       2015-01-30  AL1 1AJ   \n",
       "1  79A74E21-9273-1289-E053-6B04A8C01627  700000       2018-09-21  AL1 1AJ   \n",
       "2  C40A8A59-106B-440E-87F1-916CA5BFF4BA  470000       2013-01-10  AL1 1AJ   \n",
       "3  7011B109-623C-8ED6-E053-6B04A8C075C1  570000       2018-05-18  AL1 1AJ   \n",
       "4  C11B17CC-8A4F-4406-9871-617FDD7278C3  375000       2012-08-01  AL1 1AJ   \n",
       "\n",
       "  property type Old/New Duration SAON PAON        street Locality,  Town/City  \\\n",
       "0             T       N        F  NaN    2  ORIENT CLOSE       NaN  ST ALBANS   \n",
       "1             T       N        F  NaN    5  ORIENT CLOSE       NaN  ST ALBANS   \n",
       "2             T       N        F  NaN    5  ORIENT CLOSE       NaN  ST ALBANS   \n",
       "3             S       N        F  NaN    6  ORIENT CLOSE       NaN  ST ALBANS   \n",
       "4             S       N        F  NaN    9  ORIENT CLOSE       NaN  ST ALBANS   \n",
       "\n",
       "    District         County PPDCategory Type  \\\n",
       "0  ST ALBANS  HERTFORDSHIRE                A   \n",
       "1  ST ALBANS  HERTFORDSHIRE                A   \n",
       "2  ST ALBANS  HERTFORDSHIRE                A   \n",
       "3  ST ALBANS  HERTFORDSHIRE                A   \n",
       "4  ST ALBANS  HERTFORDSHIRE                A   \n",
       "\n",
       "                                       Record Status  \n",
       "0  http://landregistry.data.gov.uk/data/ppi/trans...  \n",
       "1  http://landregistry.data.gov.uk/data/ppi/trans...  \n",
       "2  http://landregistry.data.gov.uk/data/ppi/trans...  \n",
       "3  http://landregistry.data.gov.uk/data/ppi/trans...  \n",
       "4  http://landregistry.data.gov.uk/data/ppi/trans...  "
      ]
     },
     "execution_count": 96,
     "metadata": {},
     "output_type": "execute_result"
    }
   ],
   "source": [
    "price_data_df.head()"
   ]
  },
  {
   "cell_type": "markdown",
   "metadata": {},
   "source": [
    "There are several things we can check to help with subsequent matching. If there are multiple entries for the same property with the same Date of Transfer but with different Price, something has gone wrong with the entry and needs to be removed. Alternatively, if there are multiple entries with the same address, Price and transfer date - we only need to consider one. Let's filter the data. "
   ]
  },
  {
   "cell_type": "code",
   "execution_count": 111,
   "metadata": {},
   "outputs": [
    {
     "name": "stdout",
     "output_type": "stream",
     "text": [
      "SIZES 66800 66800\n",
      "REMOVED 0 ENTRIES FROM PRICE DATAFRAME\n"
     ]
    }
   ],
   "source": [
    "# Remove rows where the same 'PAON', 'SAON', 'street', and 'Date of Transfer' have different 'Price'\n",
    "# Group by 'PAON', 'SAON', 'street', 'Date of Transfer', and count distinct 'Price'\n",
    "initial_size = price_data_df.shape[0]\n",
    "price_conflict_groups = price_data_df.groupby(['PAON', 'SAON', 'street', 'Date of Transfer'])['Price'].nunique()\n",
    "\n",
    "# Identify the groups where more than one distinct 'Price' exists\n",
    "conflicting_price_groups = price_conflict_groups[price_conflict_groups > 1].index\n",
    "\n",
    "# Remove rows with price conflicts from the dataframe\n",
    "price_data_df = price_data_df[~price_data_df.set_index(['PAON', 'SAON', 'street', 'Date of Transfer']).index.isin(conflicting_price_groups)]\n",
    "\n",
    "# Keep only the latest 'Date of Transfer' for same 'PAON', 'SAON', 'street', and 'Price' and 'Transaction unique indentifier' \n",
    "# Sort by 'Date of Transfer' in descending order, so the latest date comes first\n",
    "price_data_df.sort_values(by='Date of Transfer', ascending=False, inplace=True)\n",
    "\n",
    "# Drop duplicates based on 'PAON', 'SAON', 'street', 'Price', keeping only the first occurrence (latest date)\n",
    "price_data_df.drop_duplicates(subset=['PAON', 'SAON', 'street', 'Price', 'Transaction unique identifier'], keep='first', inplace=True)\n",
    "\n",
    "# Keep only one entry for identical rows (same 'PAON', 'SAON', 'street', 'Price', 'Date of Transfer') \n",
    "price_data_df.drop_duplicates(subset=['PAON', 'SAON', 'street', 'Price', 'Date of Transfer'], keep='first', inplace=True)\n",
    "\n",
    "resulting_size = price_data_df.shape[0]\n",
    "print(\"SIZES\", initial_size, resulting_size)\n",
    "print(\"REMOVED\", initial_size - resulting_size, \"ENTRIES FROM PRICE DATAFRAME\")\n"
   ]
  },
  {
   "cell_type": "markdown",
   "metadata": {},
   "source": [
    "# Data matching \n",
    "We need to merge the Land Registry and EPC dataframes, but there is no key that is consistent across the dataframes\n",
    "\n",
    "So instead we'll need to do some partial matches.\n",
    "\n",
    "Postcodes should match between the dataframes, but postcodes are reported to have on average 15 properties within them (and upto 100). \n",
    "\n",
    "To identify individual properties within a postcode, we will attempt to match the following:\n",
    "\n",
    "LAND REGISTRY DATA: \\\n",
    "PAON - Primary Addressable Object Name, usually the street number and name \\\n",
    "SAON - Secondary Addressable Object Name; usually flat number \\\n",
    "street name \n",
    "\n",
    "with \n",
    "\n",
    "EPC DATA: \\\n",
    "ADDRESS1:  HOUSE NUMBER, OR HOUSE NAMES, OR FLAT NUMBER, SOMETIMES STREET AS WELL \\\n",
    "ADDRESS2:  NORMALLY STREET, COULD BE BUILDING \\\n",
    "ADDRESS3:  CAN BE STREET, CAN BE TOWN/CITY\n"
   ]
  },
  {
   "cell_type": "code",
   "execution_count": 98,
   "metadata": {},
   "outputs": [
    {
     "name": "stdout",
     "output_type": "stream",
     "text": [
      "<class 'pandas.core.frame.DataFrame'>\n",
      "Index: 55461 entries, 0 to 55748\n",
      "Data columns (total 12 columns):\n",
      " #   Column                  Non-Null Count  Dtype         \n",
      "---  ------                  --------------  -----         \n",
      " 0   ADDRESS                 55461 non-null  object        \n",
      " 1   POSTCODE                55461 non-null  object        \n",
      " 2   TOTAL_FLOOR_AREA        55461 non-null  int64         \n",
      " 3   NUMBER_HABITABLE_ROOMS  49350 non-null  float64       \n",
      " 4   NUMBER_HEATED_ROOMS     49350 non-null  float64       \n",
      " 5   ADDRESS1                55461 non-null  object        \n",
      " 6   ADDRESS2                27733 non-null  object        \n",
      " 7   ADDRESS3                4508 non-null   object        \n",
      " 8   PROPERTY_TYPE           55461 non-null  object        \n",
      " 9   CONSTRUCTION_AGE_BAND   54895 non-null  object        \n",
      " 10  UPRN                    54820 non-null  Int64         \n",
      " 11  INSPECTION_DATE         55461 non-null  datetime64[ns]\n",
      "dtypes: Int64(1), datetime64[ns](1), float64(2), int64(1), object(7)\n",
      "memory usage: 5.6+ MB\n",
      "<class 'pandas.core.frame.DataFrame'>\n",
      "Index: 66800 entries, 38638 to 59675\n",
      "Data columns (total 16 columns):\n",
      " #   Column                         Non-Null Count  Dtype \n",
      "---  ------                         --------------  ----- \n",
      " 0   Transaction unique identifier  66800 non-null  object\n",
      " 1   Price                          66800 non-null  int64 \n",
      " 2   Date of Transfer               66800 non-null  object\n",
      " 3   POSTCODE                       66800 non-null  object\n",
      " 4   property type                  66800 non-null  object\n",
      " 5   Old/New                        66800 non-null  object\n",
      " 6   Duration                       66800 non-null  object\n",
      " 7   SAON                           8580 non-null   object\n",
      " 8   PAON                           66797 non-null  object\n",
      " 9   street                         66742 non-null  object\n",
      " 10  Locality,                      41547 non-null  object\n",
      " 11  Town/City                      66800 non-null  object\n",
      " 12  District                       66800 non-null  object\n",
      " 13  County                         66800 non-null  object\n",
      " 14  PPDCategory Type               66800 non-null  object\n",
      " 15  Record Status                  66800 non-null  object\n",
      "dtypes: int64(1), object(15)\n",
      "memory usage: 8.7+ MB\n"
     ]
    }
   ],
   "source": [
    "# lets remove all postcodes not in St Albans: \n",
    "AL_epc_df=epc_df.loc[epc_df['POSTCODE'].str.startswith('AL')]\n",
    "\n",
    "# remove those addresses with missing postcodes from the price data and then select only those with a St Albans postcode. \n",
    "# This removes the entries with no POSTCODE\n",
    "\n",
    "price_data_df = price_data_df[price_data_df['POSTCODE'].notnull()]\n",
    "AL_price_df = price_data_df.loc[price_data_df['POSTCODE'].str.startswith('AL')]\n",
    "AL_epc_df.info()\n",
    "AL_price_df.info()"
   ]
  },
  {
   "cell_type": "markdown",
   "metadata": {},
   "source": [
    "To merge the datasets, we're going to need to create new columns where we combine SAON and PAON in the AL_prices_df dataframe, and merge with the ADDRESS column in the AL_price_data dataframe.\n",
    "\n",
    "Our procedure to match (which *could* improved) is to match postcodes, then match the numbers in the SAON / PAON in the AL_price_df to the numbers in ADDRESS column in the AL_price_data dataframe. There are scenarios where this could lead to multiple address with the same new identity - for example, if a postcode contains multiple streets with the same house numbers. This will fail where there are no numbers at all in the address (for example, purely a housename), so this could be improved in the next version. \n",
    "\n",
    "To ensure consistency, will need to add zeros where there is no entry in the SAON / PAON column."
   ]
  },
  {
   "cell_type": "code",
   "execution_count": 99,
   "metadata": {},
   "outputs": [
    {
     "name": "stdout",
     "output_type": "stream",
     "text": [
      "(66800, 16)\n",
      "(55461, 12)\n"
     ]
    }
   ],
   "source": [
    "AL_price_df['SAON'] = AL_price_df['SAON'].astype(str)\n",
    "AL_price_df['PAON'] = AL_price_df['PAON'].astype(str)\n",
    "\n",
    "print(AL_price_df.shape)\n",
    "\n",
    "print(AL_epc_df.shape)"
   ]
  },
  {
   "cell_type": "markdown",
   "metadata": {},
   "source": [
    "We can estimate the number of times a property has been sold multiple times. This is small compared to the number of sold prices, but we will need to ensure we have the nearest EPC data to the Date of Transfer. "
   ]
  },
  {
   "cell_type": "code",
   "execution_count": 100,
   "metadata": {},
   "outputs": [
    {
     "name": "stdout",
     "output_type": "stream",
     "text": [
      "Number of properties with different Date of Transfer values: 18141\n"
     ]
    }
   ],
   "source": [
    "AL_price_df['NUMBERS_1'] = AL_price_df['SAON'] + \" , \" + AL_price_df['PAON']\n",
    "AL_price_df['NUMBERS_SAON'] = AL_price_df['NUMBERS_1'].str.findall('(\\d+[^,\\s]*)').str[-2].fillna('0')\n",
    "AL_price_df['NUMBERS_PAON'] = AL_price_df['NUMBERS_1'].str.findall('(\\d+[^,\\s]*)').str[-1].fillna('0')\n",
    "\n",
    "sold_date_counts = AL_price_df.groupby(['NUMBERS_SAON', 'NUMBERS_PAON', 'POSTCODE'])['Date of Transfer'].nunique()\n",
    "multiple_sold_dates = sold_date_counts[sold_date_counts > 1]\n",
    "\n",
    "# Get the number of UPRNs with multiple distinct 'Date of Transfer'\n",
    "num_multiple_sold_dates = multiple_sold_dates.shape[0]\n",
    "\n",
    "print(f\"Number of properties with different Date of Transfer values: {num_multiple_sold_dates}\")"
   ]
  },
  {
   "cell_type": "code",
   "execution_count": 101,
   "metadata": {},
   "outputs": [
    {
     "name": "stderr",
     "output_type": "stream",
     "text": [
      "/var/folders/73/04s61fhs2l17cmr472j9zg_m0000gn/T/ipykernel_5528/2350967641.py:1: SettingWithCopyWarning: \n",
      "A value is trying to be set on a copy of a slice from a DataFrame.\n",
      "Try using .loc[row_indexer,col_indexer] = value instead\n",
      "\n",
      "See the caveats in the documentation: https://pandas.pydata.org/pandas-docs/stable/user_guide/indexing.html#returning-a-view-versus-a-copy\n",
      "  AL_epc_df.loc[:,'NUMBERS_SAON'] = AL_epc_df['ADDRESS'].str.findall('(\\d+[^,\\s]*)').str[-2].fillna('0')\n",
      "/var/folders/73/04s61fhs2l17cmr472j9zg_m0000gn/T/ipykernel_5528/2350967641.py:2: SettingWithCopyWarning: \n",
      "A value is trying to be set on a copy of a slice from a DataFrame.\n",
      "Try using .loc[row_indexer,col_indexer] = value instead\n",
      "\n",
      "See the caveats in the documentation: https://pandas.pydata.org/pandas-docs/stable/user_guide/indexing.html#returning-a-view-versus-a-copy\n",
      "  AL_epc_df.loc[:,'NUMBERS_PAON'] = AL_epc_df['ADDRESS'].str.findall('(\\d+[^,\\s]*)').str[-1].fillna('0')\n"
     ]
    }
   ],
   "source": [
    "AL_epc_df.loc[:,'NUMBERS_SAON'] = AL_epc_df['ADDRESS'].str.findall('(\\d+[^,\\s]*)').str[-2].fillna('0')\n",
    "AL_epc_df.loc[:,'NUMBERS_PAON'] = AL_epc_df['ADDRESS'].str.findall('(\\d+[^,\\s]*)').str[-1].fillna('0')\n"
   ]
  },
  {
   "cell_type": "markdown",
   "metadata": {},
   "source": [
    "We can check the amount properties that have the NUMBERS_SAON, NUMBERS_PAON and POSTCODE but multiple UPRNs in the AL EPC dataframe. This tells us the number of properties that have the same merging columns, but are actually different properties. We see these make up < 1% of the total properties. We'll drop these cases, as it is a small number and as the properties could be very different, despite being in the same postcode.  "
   ]
  },
  {
   "cell_type": "code",
   "execution_count": 102,
   "metadata": {},
   "outputs": [
    {
     "name": "stdout",
     "output_type": "stream",
     "text": [
      "Number of cases with more than one UPRN: 276\n",
      "Fraction of cases with more than one UPRN: 0.006729081334113517\n",
      "Number of rows after dropping in-place: 54454\n"
     ]
    },
    {
     "name": "stderr",
     "output_type": "stream",
     "text": [
      "/var/folders/73/04s61fhs2l17cmr472j9zg_m0000gn/T/ipykernel_5528/3712724687.py:23: SettingWithCopyWarning: \n",
      "A value is trying to be set on a copy of a slice from a DataFrame\n",
      "\n",
      "See the caveats in the documentation: https://pandas.pydata.org/pandas-docs/stable/user_guide/indexing.html#returning-a-view-versus-a-copy\n",
      "  AL_epc_df.drop(AL_epc_df.loc[mask].index, inplace=True)\n"
     ]
    }
   ],
   "source": [
    "duplicate_uprn_groups = AL_epc_df.groupby(['NUMBERS_SAON', 'NUMBERS_PAON', 'POSTCODE'])['UPRN'].nunique()\n",
    "\n",
    "# Filter groups where there is more than one unique UPRN\n",
    "multiple_uprn = duplicate_uprn_groups[duplicate_uprn_groups > 1]\n",
    "\n",
    "# Get the count of such cases\n",
    "num_multiple_uprn = multiple_uprn.shape[0]\n",
    "\n",
    "print(f\"Number of cases with more than one UPRN: {num_multiple_uprn}\")\n",
    "\n",
    "total_groups = AL_epc_df.groupby(['NUMBERS_SAON', 'NUMBERS_PAON', 'POSTCODE']).ngroups\n",
    "\n",
    "# Fraction of cases with more than one unique UPRN\n",
    "fraction_multiple_uprn = multiple_uprn.shape[0] / total_groups\n",
    "\n",
    "print(f\"Fraction of cases with more than one UPRN: {fraction_multiple_uprn}\")\n",
    "\n",
    "groups_with_multiple_uprn = multiple_uprn.index\n",
    "\n",
    "# Create a mask to identify the rows to drop\n",
    "mask = AL_epc_df.set_index(['NUMBERS_SAON', 'NUMBERS_PAON', 'POSTCODE']).index.isin(groups_with_multiple_uprn)\n",
    "\n",
    "AL_epc_df.drop(AL_epc_df.loc[mask].index, inplace=True)\n",
    "\n",
    "print(f\"Number of rows after dropping in-place: {AL_epc_df.shape[0]}\")\n"
   ]
  },
  {
   "cell_type": "markdown",
   "metadata": {},
   "source": [
    "There are many duplicates in the properties of the AL_price_df dataframe - we can assume this is where a property has been sold multiple times in the time period of the price data. \n",
    "\n",
    "We can assume that the EPC certificate is issued every time a property is sold, but this hasn't always been the case. Note properties can be extended (and hence floor area will increase) between sales. It could also be reduced. \n",
    "\n",
    "We need to therefore find the corresponding EPC certificate closest to when the property is sold. "
   ]
  },
  {
   "cell_type": "code",
   "execution_count": 103,
   "metadata": {},
   "outputs": [
    {
     "name": "stdout",
     "output_type": "stream",
     "text": [
      "Number of UPRNs with different INSPECTION_DATE values in the AL_epc_df dataframe: 11709\n"
     ]
    }
   ],
   "source": [
    "inspection_date_counts = AL_epc_df.groupby('UPRN')['INSPECTION_DATE'].nunique()\n",
    "\n",
    "# Filter to get only UPRNs that have more than one distinct 'INSPECTION_DATE'\n",
    "multiple_inspection_dates = inspection_date_counts[inspection_date_counts > 1]\n",
    "\n",
    "# Get the number of UPRNs with multiple distinct 'INSPECTION_DATE'\n",
    "num_multiple_inspection_dates = multiple_inspection_dates.shape[0]\n",
    "\n",
    "print(f\"Number of UPRNs with different INSPECTION_DATE values in the AL_epc_df dataframe: {num_multiple_inspection_dates}\")\n"
   ]
  },
  {
   "cell_type": "markdown",
   "metadata": {},
   "source": [
    "We'll merge in our newly created 'NUMBERS_SAON' and 'NUMBERS_PAON' columns, along with 'POSTCODE'"
   ]
  },
  {
   "cell_type": "code",
   "execution_count": 104,
   "metadata": {},
   "outputs": [],
   "source": [
    "# convert the Date of Transfer column in AL_price_df to a datatime dtype, for comparison with INSPECTION_DATE in the AL_epc_df\n",
    "AL_price_df['Date of Transfer'] = pd.to_datetime(AL_price_df['Date of Transfer'])\n",
    "\n",
    "merged_df = pd.merge(AL_price_df, AL_epc_df, on=['NUMBERS_SAON', 'NUMBERS_PAON', 'POSTCODE'], how='inner')"
   ]
  },
  {
   "cell_type": "markdown",
   "metadata": {},
   "source": [
    "In the merge, where there are multiple EPC certificates for each property, we'll calculate the difference in time between the Date of Transfer and the Inspection Date, and pick the closest one."
   ]
  },
  {
   "cell_type": "code",
   "execution_count": 105,
   "metadata": {},
   "outputs": [
    {
     "name": "stdout",
     "output_type": "stream",
     "text": [
      "(66680, 31)\n"
     ]
    }
   ],
   "source": [
    "# Step 2: Calculate the absolute difference between the dates\n",
    "merged_df['date_diff'] = (merged_df['Date of Transfer'] - merged_df['INSPECTION_DATE']).abs()\n",
    "s = merged_df.duplicated(subset=['NUMBERS_SAON', 'NUMBERS_PAON', 'POSTCODE'])\n",
    "\n",
    "print(merged_df.shape)\n",
    "merged_df = merged_df.sort_values(by=['NUMBERS_SAON', 'NUMBERS_PAON', 'POSTCODE', 'UPRN', 'Date of Transfer', 'date_diff'])\n"
   ]
  },
  {
   "cell_type": "code",
   "execution_count": 106,
   "metadata": {},
   "outputs": [],
   "source": [
    "# Sort by the 'NUMBERS_SAON', 'NUMBERS_PAON', 'POSTCODE', 'Date of Transfer' to find the nearest date match\n",
    "\n",
    "grouped_df = merged_df.groupby(['NUMBERS_SAON', 'NUMBERS_PAON', 'POSTCODE', 'Date of Transfer']).size()\n",
    "\n",
    "# uncomment the following to see how selecting the nearest EPC data works for selected example\n",
    "#transaction_id = 200001902702\n",
    "#selected_columns = ['UPRN', 'Transaction unique identifier', 'NUMBERS_SAON', 'NUMBERS_PAON', 'POSTCODE', 'Date of Transfer', 'INSPECTION_DATE', 'date_diff']\n",
    "#filtered_data = merged_df2[merged_df2['UPRN'] == transaction_id][selected_columns]\n",
    "#print(filtered_data)\n",
    "\n",
    "# Find duplicates\n",
    "#duplicate_groups = grouped_df[grouped_df > 1].index\n",
    "\n",
    "# Get the rows belong to these duplicate groups\n",
    "#duplicate_rows = merged_df2[merged_df2.set_index(['NUMBERS_SAON', 'NUMBERS_PAON', 'POSTCODE', 'Date of Transfer']).index.isin(duplicate_groups)]\n",
    "\n",
    "# Print the rows with duplicate subsets\n",
    "#print(duplicate_rows[['UPRN', 'Transaction unique identifier', 'NUMBERS_SAON', 'NUMBERS_PAON', 'POSTCODE', 'Date of Transfer', 'INSPECTION_DATE', 'date_diff']])\n",
    "\n",
    "# Drop the duplicates to keep only the row with the smallest date difference for each group\n",
    "result_df = merged_df.drop_duplicates(subset=['NUMBERS_SAON', 'NUMBERS_PAON', 'POSTCODE', 'Date of Transfer'], keep='first')\n",
    "\n",
    "# we'll drop the 'date_diff' column - not needed\n",
    "result_df = result_df.drop(columns=['date_diff'])"
   ]
  },
  {
   "cell_type": "markdown",
   "metadata": {},
   "source": [
    "# Merging with coordinate data \n",
    "Now we have the merged EPC and price dataframe, we can add coordinates to the properties, using data from the Ordinance Survey, which relates the UPRN to coordinates"
   ]
  },
  {
   "cell_type": "code",
   "execution_count": 107,
   "metadata": {},
   "outputs": [],
   "source": [
    "UPRN_to_lat_long_df = pd.read_csv(r'./osopenuprn_202409_csv/osopenuprn_202409.csv') "
   ]
  },
  {
   "cell_type": "code",
   "execution_count": 108,
   "metadata": {},
   "outputs": [],
   "source": [
    "UPRN_to_lat_long_df = pd.read_csv(r'./osopenuprn_202409_csv/osopenuprn_202409.csv') "
   ]
  },
  {
   "cell_type": "code",
   "execution_count": 81,
   "metadata": {},
   "outputs": [],
   "source": [
    "UPRN_to_lat_long_df = pd.read_csv(r'./osopenuprn_202409_csv/osopenuprn_202409.csv') \n",
    "result_df_lat_long = pd.merge(result_df, UPRN_to_lat_long_df , on=['UPRN'], how='inner')"
   ]
  },
  {
   "cell_type": "code",
   "execution_count": null,
   "metadata": {},
   "outputs": [],
   "source": []
  },
  {
   "cell_type": "code",
   "execution_count": 109,
   "metadata": {},
   "outputs": [
    {
     "name": "stdout",
     "output_type": "stream",
     "text": [
      "<class 'pandas.core.frame.DataFrame'>\n",
      "RangeIndex: 47911 entries, 0 to 47910\n",
      "Data columns (total 34 columns):\n",
      " #   Column                         Non-Null Count  Dtype         \n",
      "---  ------                         --------------  -----         \n",
      " 0   Transaction unique identifier  47911 non-null  object        \n",
      " 1   Price                          47911 non-null  int64         \n",
      " 2   Date of Transfer               47911 non-null  datetime64[ns]\n",
      " 3   POSTCODE                       47911 non-null  object        \n",
      " 4   property type                  47911 non-null  object        \n",
      " 5   Old/New                        47911 non-null  object        \n",
      " 6   Duration                       47911 non-null  object        \n",
      " 7   SAON                           47911 non-null  object        \n",
      " 8   PAON                           47911 non-null  object        \n",
      " 9   street                         47892 non-null  object        \n",
      " 10  Locality,                      26730 non-null  object        \n",
      " 11  Town/City                      47911 non-null  object        \n",
      " 12  District                       47911 non-null  object        \n",
      " 13  County                         47911 non-null  object        \n",
      " 14  PPDCategory Type               47911 non-null  object        \n",
      " 15  Record Status                  47911 non-null  object        \n",
      " 16  NUMBERS_1                      47911 non-null  object        \n",
      " 17  NUMBERS_SAON                   47911 non-null  object        \n",
      " 18  NUMBERS_PAON                   47911 non-null  object        \n",
      " 19  ADDRESS                        47911 non-null  object        \n",
      " 20  TOTAL_FLOOR_AREA               47911 non-null  int64         \n",
      " 21  NUMBER_HABITABLE_ROOMS         44543 non-null  float64       \n",
      " 22  NUMBER_HEATED_ROOMS            44543 non-null  float64       \n",
      " 23  ADDRESS1                       47911 non-null  object        \n",
      " 24  ADDRESS2                       22677 non-null  object        \n",
      " 25  ADDRESS3                       2615 non-null   object        \n",
      " 26  PROPERTY_TYPE                  47911 non-null  object        \n",
      " 27  CONSTRUCTION_AGE_BAND          47376 non-null  object        \n",
      " 28  UPRN                           47911 non-null  Int64         \n",
      " 29  INSPECTION_DATE                47911 non-null  datetime64[ns]\n",
      " 30  X_COORDINATE                   47911 non-null  float64       \n",
      " 31  Y_COORDINATE                   47911 non-null  float64       \n",
      " 32  LATITUDE                       47911 non-null  float64       \n",
      " 33  LONGITUDE                      47911 non-null  float64       \n",
      "dtypes: Int64(1), datetime64[ns](2), float64(6), int64(2), object(23)\n",
      "memory usage: 12.5+ MB\n"
     ]
    }
   ],
   "source": [
    "result_df_lat_long.info()"
   ]
  },
  {
   "cell_type": "markdown",
   "metadata": {},
   "source": [
    "We'll output our new combined dataset: "
   ]
  },
  {
   "cell_type": "code",
   "execution_count": 110,
   "metadata": {},
   "outputs": [],
   "source": [
    "result_df_lat_long.to_csv('./merged_datasets.csv')"
   ]
  }
 ],
 "metadata": {
  "kernelspec": {
   "display_name": "Python 3 (ipykernel)",
   "language": "python",
   "name": "python3"
  },
  "language_info": {
   "codemirror_mode": {
    "name": "ipython",
    "version": 3
   },
   "file_extension": ".py",
   "mimetype": "text/x-python",
   "name": "python",
   "nbconvert_exporter": "python",
   "pygments_lexer": "ipython3",
   "version": "3.11.9"
  }
 },
 "nbformat": 4,
 "nbformat_minor": 4
}
